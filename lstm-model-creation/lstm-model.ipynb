{
 "cells": [
  {
   "cell_type": "code",
   "execution_count": 26,
   "metadata": {
    "collapsed": true
   },
   "outputs": [],
   "source": [
    "import numpy as np\n",
    "import pandas as pd\n",
    "from sklearn.preprocessing import MinMaxScaler\n",
    "from sklearn.model_selection import train_test_split\n",
    "from keras.models import Sequential\n",
    "from keras.layers import LSTM, Dense\n",
    "from keras.models import save_model"
   ]
  },
  {
   "cell_type": "code",
   "execution_count": 2,
   "outputs": [
    {
     "data": {
      "text/plain": "              timestamp  Active_Energy_Delivered_Received  \\\n0       8/14/2013 15:35                          113970.0   \n1       8/14/2013 15:40                          113971.0   \n2       8/14/2013 15:45                          113971.0   \n3       8/14/2013 15:50                          113972.0   \n4       8/14/2013 15:55                          113972.0   \n...                 ...                               ...   \n982545  1/19/2023 11:10                               NaN   \n982546  1/19/2023 11:15                          294840.0   \n982547  1/19/2023 11:20                          294841.0   \n982548  1/19/2023 11:25                          294841.0   \n982549  1/19/2023 11:30                          294842.0   \n\n        Current_Phase_Average  Active_Power  Wind_Speed  \\\n0                   11.464333      6.208334    3.100190   \n1                   11.152334      6.106200    3.415439   \n2                   10.898998      6.010433    2.373577   \n3                   10.557001      5.924666    3.515019   \n4                   10.284998      5.852333    3.287408   \n...                       ...           ...         ...   \n982545                    NaN           NaN         NaN   \n982546              14.935999      7.162267         NaN   \n982547              15.017334      7.184267         NaN   \n982548              15.113668      7.393467         NaN   \n982549              15.289331      7.329333         NaN   \n\n        Weather_Temperature_Celsius  Weather_Relative_Humidity  \\\n0                         28.226471                  17.152653   \n1                         27.399916                  17.834187   \n2                         27.661219                  17.747263   \n3                         27.724470                  17.451172   \n4                         27.314009                  17.803726   \n...                             ...                        ...   \n982545                          NaN                        NaN   \n982546                    30.059155                  35.795490   \n982547                    30.250393                  36.004295   \n982548                    30.581776                  34.828823   \n982549                    30.293154                  34.917862   \n\n        Global_Horizontal_Radiation  Diffuse_Horizontal_Radiation  \\\n0                        526.585205                     54.478363   \n1                        512.387695                     55.947868   \n2                        493.852539                     51.699211   \n3                        475.453247                     48.139847   \n4                        463.113190                     51.068470   \n...                             ...                           ...   \n982545                          NaN                           NaN   \n982546                  1066.155518                    105.059143   \n982547                  1072.618530                    103.956429   \n982548                  1082.490112                    105.972069   \n982549                  1092.458130                    108.330757   \n\n        Wind_Direction  Weather_Daily_Rainfall  Radiation_Global_Tilted  \\\n0           179.385696                     0.0               661.085877   \n1           146.240540                     0.0               641.358826   \n2           191.351410                     0.0               623.269104   \n3           179.864182                     0.0               604.026062   \n4           160.973099                     0.0               584.602722   \n...                ...                     ...                      ...   \n982545             NaN                     NaN               981.544312   \n982546       46.717766                     0.0              1000.187561   \n982547       46.688675                     0.0              1011.221436   \n982548       46.601555                     0.0                      NaN   \n982549       46.597824                     0.0                      NaN   \n\n        Radiation_Diffuse_Tilted  \n0                      61.034492  \n1                      58.497375  \n2                      57.587238  \n3                      56.896786  \n4                      56.105083  \n...                          ...  \n982545                 99.513496  \n982546                101.900909  \n982547                 99.269295  \n982548                       NaN  \n982549                       NaN  \n\n[982550 rows x 13 columns]",
      "text/html": "<div>\n<style scoped>\n    .dataframe tbody tr th:only-of-type {\n        vertical-align: middle;\n    }\n\n    .dataframe tbody tr th {\n        vertical-align: top;\n    }\n\n    .dataframe thead th {\n        text-align: right;\n    }\n</style>\n<table border=\"1\" class=\"dataframe\">\n  <thead>\n    <tr style=\"text-align: right;\">\n      <th></th>\n      <th>timestamp</th>\n      <th>Active_Energy_Delivered_Received</th>\n      <th>Current_Phase_Average</th>\n      <th>Active_Power</th>\n      <th>Wind_Speed</th>\n      <th>Weather_Temperature_Celsius</th>\n      <th>Weather_Relative_Humidity</th>\n      <th>Global_Horizontal_Radiation</th>\n      <th>Diffuse_Horizontal_Radiation</th>\n      <th>Wind_Direction</th>\n      <th>Weather_Daily_Rainfall</th>\n      <th>Radiation_Global_Tilted</th>\n      <th>Radiation_Diffuse_Tilted</th>\n    </tr>\n  </thead>\n  <tbody>\n    <tr>\n      <th>0</th>\n      <td>8/14/2013 15:35</td>\n      <td>113970.0</td>\n      <td>11.464333</td>\n      <td>6.208334</td>\n      <td>3.100190</td>\n      <td>28.226471</td>\n      <td>17.152653</td>\n      <td>526.585205</td>\n      <td>54.478363</td>\n      <td>179.385696</td>\n      <td>0.0</td>\n      <td>661.085877</td>\n      <td>61.034492</td>\n    </tr>\n    <tr>\n      <th>1</th>\n      <td>8/14/2013 15:40</td>\n      <td>113971.0</td>\n      <td>11.152334</td>\n      <td>6.106200</td>\n      <td>3.415439</td>\n      <td>27.399916</td>\n      <td>17.834187</td>\n      <td>512.387695</td>\n      <td>55.947868</td>\n      <td>146.240540</td>\n      <td>0.0</td>\n      <td>641.358826</td>\n      <td>58.497375</td>\n    </tr>\n    <tr>\n      <th>2</th>\n      <td>8/14/2013 15:45</td>\n      <td>113971.0</td>\n      <td>10.898998</td>\n      <td>6.010433</td>\n      <td>2.373577</td>\n      <td>27.661219</td>\n      <td>17.747263</td>\n      <td>493.852539</td>\n      <td>51.699211</td>\n      <td>191.351410</td>\n      <td>0.0</td>\n      <td>623.269104</td>\n      <td>57.587238</td>\n    </tr>\n    <tr>\n      <th>3</th>\n      <td>8/14/2013 15:50</td>\n      <td>113972.0</td>\n      <td>10.557001</td>\n      <td>5.924666</td>\n      <td>3.515019</td>\n      <td>27.724470</td>\n      <td>17.451172</td>\n      <td>475.453247</td>\n      <td>48.139847</td>\n      <td>179.864182</td>\n      <td>0.0</td>\n      <td>604.026062</td>\n      <td>56.896786</td>\n    </tr>\n    <tr>\n      <th>4</th>\n      <td>8/14/2013 15:55</td>\n      <td>113972.0</td>\n      <td>10.284998</td>\n      <td>5.852333</td>\n      <td>3.287408</td>\n      <td>27.314009</td>\n      <td>17.803726</td>\n      <td>463.113190</td>\n      <td>51.068470</td>\n      <td>160.973099</td>\n      <td>0.0</td>\n      <td>584.602722</td>\n      <td>56.105083</td>\n    </tr>\n    <tr>\n      <th>...</th>\n      <td>...</td>\n      <td>...</td>\n      <td>...</td>\n      <td>...</td>\n      <td>...</td>\n      <td>...</td>\n      <td>...</td>\n      <td>...</td>\n      <td>...</td>\n      <td>...</td>\n      <td>...</td>\n      <td>...</td>\n      <td>...</td>\n    </tr>\n    <tr>\n      <th>982545</th>\n      <td>1/19/2023 11:10</td>\n      <td>NaN</td>\n      <td>NaN</td>\n      <td>NaN</td>\n      <td>NaN</td>\n      <td>NaN</td>\n      <td>NaN</td>\n      <td>NaN</td>\n      <td>NaN</td>\n      <td>NaN</td>\n      <td>NaN</td>\n      <td>981.544312</td>\n      <td>99.513496</td>\n    </tr>\n    <tr>\n      <th>982546</th>\n      <td>1/19/2023 11:15</td>\n      <td>294840.0</td>\n      <td>14.935999</td>\n      <td>7.162267</td>\n      <td>NaN</td>\n      <td>30.059155</td>\n      <td>35.795490</td>\n      <td>1066.155518</td>\n      <td>105.059143</td>\n      <td>46.717766</td>\n      <td>0.0</td>\n      <td>1000.187561</td>\n      <td>101.900909</td>\n    </tr>\n    <tr>\n      <th>982547</th>\n      <td>1/19/2023 11:20</td>\n      <td>294841.0</td>\n      <td>15.017334</td>\n      <td>7.184267</td>\n      <td>NaN</td>\n      <td>30.250393</td>\n      <td>36.004295</td>\n      <td>1072.618530</td>\n      <td>103.956429</td>\n      <td>46.688675</td>\n      <td>0.0</td>\n      <td>1011.221436</td>\n      <td>99.269295</td>\n    </tr>\n    <tr>\n      <th>982548</th>\n      <td>1/19/2023 11:25</td>\n      <td>294841.0</td>\n      <td>15.113668</td>\n      <td>7.393467</td>\n      <td>NaN</td>\n      <td>30.581776</td>\n      <td>34.828823</td>\n      <td>1082.490112</td>\n      <td>105.972069</td>\n      <td>46.601555</td>\n      <td>0.0</td>\n      <td>NaN</td>\n      <td>NaN</td>\n    </tr>\n    <tr>\n      <th>982549</th>\n      <td>1/19/2023 11:30</td>\n      <td>294842.0</td>\n      <td>15.289331</td>\n      <td>7.329333</td>\n      <td>NaN</td>\n      <td>30.293154</td>\n      <td>34.917862</td>\n      <td>1092.458130</td>\n      <td>108.330757</td>\n      <td>46.597824</td>\n      <td>0.0</td>\n      <td>NaN</td>\n      <td>NaN</td>\n    </tr>\n  </tbody>\n</table>\n<p>982550 rows × 13 columns</p>\n</div>"
     },
     "execution_count": 2,
     "metadata": {},
     "output_type": "execute_result"
    }
   ],
   "source": [
    "# Load input data into a DataFrame\n",
    "df = pd.read_csv('C:/Workspace/lstm-model-data/91-Site_1A-Trina.csv')\n",
    "df"
   ],
   "metadata": {
    "collapsed": false
   }
  },
  {
   "cell_type": "code",
   "execution_count": 3,
   "outputs": [
    {
     "data": {
      "text/plain": "                 timestamp  Active_Energy_Delivered_Received  \\\n0      2013-08-14 15:35:00                          113970.0   \n1      2013-08-14 15:40:00                          113971.0   \n2      2013-08-14 15:45:00                          113971.0   \n3      2013-08-14 15:50:00                          113972.0   \n4      2013-08-14 15:55:00                          113972.0   \n...                    ...                               ...   \n982545 2023-01-19 11:10:00                               NaN   \n982546 2023-01-19 11:15:00                          294840.0   \n982547 2023-01-19 11:20:00                          294841.0   \n982548 2023-01-19 11:25:00                          294841.0   \n982549 2023-01-19 11:30:00                          294842.0   \n\n        Current_Phase_Average  Active_Power  Wind_Speed  \\\n0                   11.464333      6.208334    3.100190   \n1                   11.152334      6.106200    3.415439   \n2                   10.898998      6.010433    2.373577   \n3                   10.557001      5.924666    3.515019   \n4                   10.284998      5.852333    3.287408   \n...                       ...           ...         ...   \n982545                    NaN           NaN         NaN   \n982546              14.935999      7.162267         NaN   \n982547              15.017334      7.184267         NaN   \n982548              15.113668      7.393467         NaN   \n982549              15.289331      7.329333         NaN   \n\n        Weather_Temperature_Celsius  Weather_Relative_Humidity  \\\n0                         28.226471                  17.152653   \n1                         27.399916                  17.834187   \n2                         27.661219                  17.747263   \n3                         27.724470                  17.451172   \n4                         27.314009                  17.803726   \n...                             ...                        ...   \n982545                          NaN                        NaN   \n982546                    30.059155                  35.795490   \n982547                    30.250393                  36.004295   \n982548                    30.581776                  34.828823   \n982549                    30.293154                  34.917862   \n\n        Global_Horizontal_Radiation  Diffuse_Horizontal_Radiation  \\\n0                        526.585205                     54.478363   \n1                        512.387695                     55.947868   \n2                        493.852539                     51.699211   \n3                        475.453247                     48.139847   \n4                        463.113190                     51.068470   \n...                             ...                           ...   \n982545                          NaN                           NaN   \n982546                  1066.155518                    105.059143   \n982547                  1072.618530                    103.956429   \n982548                  1082.490112                    105.972069   \n982549                  1092.458130                    108.330757   \n\n        Wind_Direction  Weather_Daily_Rainfall  Radiation_Global_Tilted  \\\n0           179.385696                     0.0               661.085877   \n1           146.240540                     0.0               641.358826   \n2           191.351410                     0.0               623.269104   \n3           179.864182                     0.0               604.026062   \n4           160.973099                     0.0               584.602722   \n...                ...                     ...                      ...   \n982545             NaN                     NaN               981.544312   \n982546       46.717766                     0.0              1000.187561   \n982547       46.688675                     0.0              1011.221436   \n982548       46.601555                     0.0                      NaN   \n982549       46.597824                     0.0                      NaN   \n\n        Radiation_Diffuse_Tilted Time_Format      Time_Delta     Time_Ms  \n0                      61.034492    15:35:00 0 days 15:35:00  56100000.0  \n1                      58.497375    15:40:00 0 days 15:40:00  56400000.0  \n2                      57.587238    15:45:00 0 days 15:45:00  56700000.0  \n3                      56.896786    15:50:00 0 days 15:50:00  57000000.0  \n4                      56.105083    15:55:00 0 days 15:55:00  57300000.0  \n...                          ...         ...             ...         ...  \n982545                 99.513496    11:10:00 0 days 11:10:00  40200000.0  \n982546                101.900909    11:15:00 0 days 11:15:00  40500000.0  \n982547                 99.269295    11:20:00 0 days 11:20:00  40800000.0  \n982548                       NaN    11:25:00 0 days 11:25:00  41100000.0  \n982549                       NaN    11:30:00 0 days 11:30:00  41400000.0  \n\n[982550 rows x 16 columns]",
      "text/html": "<div>\n<style scoped>\n    .dataframe tbody tr th:only-of-type {\n        vertical-align: middle;\n    }\n\n    .dataframe tbody tr th {\n        vertical-align: top;\n    }\n\n    .dataframe thead th {\n        text-align: right;\n    }\n</style>\n<table border=\"1\" class=\"dataframe\">\n  <thead>\n    <tr style=\"text-align: right;\">\n      <th></th>\n      <th>timestamp</th>\n      <th>Active_Energy_Delivered_Received</th>\n      <th>Current_Phase_Average</th>\n      <th>Active_Power</th>\n      <th>Wind_Speed</th>\n      <th>Weather_Temperature_Celsius</th>\n      <th>Weather_Relative_Humidity</th>\n      <th>Global_Horizontal_Radiation</th>\n      <th>Diffuse_Horizontal_Radiation</th>\n      <th>Wind_Direction</th>\n      <th>Weather_Daily_Rainfall</th>\n      <th>Radiation_Global_Tilted</th>\n      <th>Radiation_Diffuse_Tilted</th>\n      <th>Time_Format</th>\n      <th>Time_Delta</th>\n      <th>Time_Ms</th>\n    </tr>\n  </thead>\n  <tbody>\n    <tr>\n      <th>0</th>\n      <td>2013-08-14 15:35:00</td>\n      <td>113970.0</td>\n      <td>11.464333</td>\n      <td>6.208334</td>\n      <td>3.100190</td>\n      <td>28.226471</td>\n      <td>17.152653</td>\n      <td>526.585205</td>\n      <td>54.478363</td>\n      <td>179.385696</td>\n      <td>0.0</td>\n      <td>661.085877</td>\n      <td>61.034492</td>\n      <td>15:35:00</td>\n      <td>0 days 15:35:00</td>\n      <td>56100000.0</td>\n    </tr>\n    <tr>\n      <th>1</th>\n      <td>2013-08-14 15:40:00</td>\n      <td>113971.0</td>\n      <td>11.152334</td>\n      <td>6.106200</td>\n      <td>3.415439</td>\n      <td>27.399916</td>\n      <td>17.834187</td>\n      <td>512.387695</td>\n      <td>55.947868</td>\n      <td>146.240540</td>\n      <td>0.0</td>\n      <td>641.358826</td>\n      <td>58.497375</td>\n      <td>15:40:00</td>\n      <td>0 days 15:40:00</td>\n      <td>56400000.0</td>\n    </tr>\n    <tr>\n      <th>2</th>\n      <td>2013-08-14 15:45:00</td>\n      <td>113971.0</td>\n      <td>10.898998</td>\n      <td>6.010433</td>\n      <td>2.373577</td>\n      <td>27.661219</td>\n      <td>17.747263</td>\n      <td>493.852539</td>\n      <td>51.699211</td>\n      <td>191.351410</td>\n      <td>0.0</td>\n      <td>623.269104</td>\n      <td>57.587238</td>\n      <td>15:45:00</td>\n      <td>0 days 15:45:00</td>\n      <td>56700000.0</td>\n    </tr>\n    <tr>\n      <th>3</th>\n      <td>2013-08-14 15:50:00</td>\n      <td>113972.0</td>\n      <td>10.557001</td>\n      <td>5.924666</td>\n      <td>3.515019</td>\n      <td>27.724470</td>\n      <td>17.451172</td>\n      <td>475.453247</td>\n      <td>48.139847</td>\n      <td>179.864182</td>\n      <td>0.0</td>\n      <td>604.026062</td>\n      <td>56.896786</td>\n      <td>15:50:00</td>\n      <td>0 days 15:50:00</td>\n      <td>57000000.0</td>\n    </tr>\n    <tr>\n      <th>4</th>\n      <td>2013-08-14 15:55:00</td>\n      <td>113972.0</td>\n      <td>10.284998</td>\n      <td>5.852333</td>\n      <td>3.287408</td>\n      <td>27.314009</td>\n      <td>17.803726</td>\n      <td>463.113190</td>\n      <td>51.068470</td>\n      <td>160.973099</td>\n      <td>0.0</td>\n      <td>584.602722</td>\n      <td>56.105083</td>\n      <td>15:55:00</td>\n      <td>0 days 15:55:00</td>\n      <td>57300000.0</td>\n    </tr>\n    <tr>\n      <th>...</th>\n      <td>...</td>\n      <td>...</td>\n      <td>...</td>\n      <td>...</td>\n      <td>...</td>\n      <td>...</td>\n      <td>...</td>\n      <td>...</td>\n      <td>...</td>\n      <td>...</td>\n      <td>...</td>\n      <td>...</td>\n      <td>...</td>\n      <td>...</td>\n      <td>...</td>\n      <td>...</td>\n    </tr>\n    <tr>\n      <th>982545</th>\n      <td>2023-01-19 11:10:00</td>\n      <td>NaN</td>\n      <td>NaN</td>\n      <td>NaN</td>\n      <td>NaN</td>\n      <td>NaN</td>\n      <td>NaN</td>\n      <td>NaN</td>\n      <td>NaN</td>\n      <td>NaN</td>\n      <td>NaN</td>\n      <td>981.544312</td>\n      <td>99.513496</td>\n      <td>11:10:00</td>\n      <td>0 days 11:10:00</td>\n      <td>40200000.0</td>\n    </tr>\n    <tr>\n      <th>982546</th>\n      <td>2023-01-19 11:15:00</td>\n      <td>294840.0</td>\n      <td>14.935999</td>\n      <td>7.162267</td>\n      <td>NaN</td>\n      <td>30.059155</td>\n      <td>35.795490</td>\n      <td>1066.155518</td>\n      <td>105.059143</td>\n      <td>46.717766</td>\n      <td>0.0</td>\n      <td>1000.187561</td>\n      <td>101.900909</td>\n      <td>11:15:00</td>\n      <td>0 days 11:15:00</td>\n      <td>40500000.0</td>\n    </tr>\n    <tr>\n      <th>982547</th>\n      <td>2023-01-19 11:20:00</td>\n      <td>294841.0</td>\n      <td>15.017334</td>\n      <td>7.184267</td>\n      <td>NaN</td>\n      <td>30.250393</td>\n      <td>36.004295</td>\n      <td>1072.618530</td>\n      <td>103.956429</td>\n      <td>46.688675</td>\n      <td>0.0</td>\n      <td>1011.221436</td>\n      <td>99.269295</td>\n      <td>11:20:00</td>\n      <td>0 days 11:20:00</td>\n      <td>40800000.0</td>\n    </tr>\n    <tr>\n      <th>982548</th>\n      <td>2023-01-19 11:25:00</td>\n      <td>294841.0</td>\n      <td>15.113668</td>\n      <td>7.393467</td>\n      <td>NaN</td>\n      <td>30.581776</td>\n      <td>34.828823</td>\n      <td>1082.490112</td>\n      <td>105.972069</td>\n      <td>46.601555</td>\n      <td>0.0</td>\n      <td>NaN</td>\n      <td>NaN</td>\n      <td>11:25:00</td>\n      <td>0 days 11:25:00</td>\n      <td>41100000.0</td>\n    </tr>\n    <tr>\n      <th>982549</th>\n      <td>2023-01-19 11:30:00</td>\n      <td>294842.0</td>\n      <td>15.289331</td>\n      <td>7.329333</td>\n      <td>NaN</td>\n      <td>30.293154</td>\n      <td>34.917862</td>\n      <td>1092.458130</td>\n      <td>108.330757</td>\n      <td>46.597824</td>\n      <td>0.0</td>\n      <td>NaN</td>\n      <td>NaN</td>\n      <td>11:30:00</td>\n      <td>0 days 11:30:00</td>\n      <td>41400000.0</td>\n    </tr>\n  </tbody>\n</table>\n<p>982550 rows × 16 columns</p>\n</div>"
     },
     "execution_count": 3,
     "metadata": {},
     "output_type": "execute_result"
    }
   ],
   "source": [
    "# Convert timestamp column to datetime\n",
    "df['timestamp'] = pd.to_datetime(df['timestamp'])\n",
    "\n",
    "# Extract hour, minute, and second\n",
    "df['Time_Format'] = df['timestamp'].dt.strftime('%H:%M:%S')\n",
    "\n",
    "# Convert time_format column to timedelta\n",
    "df['Time_Delta'] = pd.to_timedelta(df['Time_Format'])\n",
    "\n",
    "# Calculate time in milliseconds\n",
    "df['Time_Ms'] = df['Time_Delta'].dt.total_seconds() * 1000\n",
    "\n",
    "df"
   ],
   "metadata": {
    "collapsed": false
   }
  },
  {
   "cell_type": "code",
   "execution_count": 4,
   "outputs": [
    {
     "data": {
      "text/plain": "           Time_Ms  Weather_Temperature_Celsius  Active_Power\n0       56100000.0                    28.226471      6.208334\n1       56400000.0                    27.399916      6.106200\n2       56700000.0                    27.661219      6.010433\n3       57000000.0                    27.724470      5.924666\n4       57300000.0                    27.314009      5.852333\n...            ...                          ...           ...\n982545  40200000.0                          NaN           NaN\n982546  40500000.0                    30.059155      7.162267\n982547  40800000.0                    30.250393      7.184267\n982548  41100000.0                    30.581776      7.393467\n982549  41400000.0                    30.293154      7.329333\n\n[982550 rows x 3 columns]",
      "text/html": "<div>\n<style scoped>\n    .dataframe tbody tr th:only-of-type {\n        vertical-align: middle;\n    }\n\n    .dataframe tbody tr th {\n        vertical-align: top;\n    }\n\n    .dataframe thead th {\n        text-align: right;\n    }\n</style>\n<table border=\"1\" class=\"dataframe\">\n  <thead>\n    <tr style=\"text-align: right;\">\n      <th></th>\n      <th>Time_Ms</th>\n      <th>Weather_Temperature_Celsius</th>\n      <th>Active_Power</th>\n    </tr>\n  </thead>\n  <tbody>\n    <tr>\n      <th>0</th>\n      <td>56100000.0</td>\n      <td>28.226471</td>\n      <td>6.208334</td>\n    </tr>\n    <tr>\n      <th>1</th>\n      <td>56400000.0</td>\n      <td>27.399916</td>\n      <td>6.106200</td>\n    </tr>\n    <tr>\n      <th>2</th>\n      <td>56700000.0</td>\n      <td>27.661219</td>\n      <td>6.010433</td>\n    </tr>\n    <tr>\n      <th>3</th>\n      <td>57000000.0</td>\n      <td>27.724470</td>\n      <td>5.924666</td>\n    </tr>\n    <tr>\n      <th>4</th>\n      <td>57300000.0</td>\n      <td>27.314009</td>\n      <td>5.852333</td>\n    </tr>\n    <tr>\n      <th>...</th>\n      <td>...</td>\n      <td>...</td>\n      <td>...</td>\n    </tr>\n    <tr>\n      <th>982545</th>\n      <td>40200000.0</td>\n      <td>NaN</td>\n      <td>NaN</td>\n    </tr>\n    <tr>\n      <th>982546</th>\n      <td>40500000.0</td>\n      <td>30.059155</td>\n      <td>7.162267</td>\n    </tr>\n    <tr>\n      <th>982547</th>\n      <td>40800000.0</td>\n      <td>30.250393</td>\n      <td>7.184267</td>\n    </tr>\n    <tr>\n      <th>982548</th>\n      <td>41100000.0</td>\n      <td>30.581776</td>\n      <td>7.393467</td>\n    </tr>\n    <tr>\n      <th>982549</th>\n      <td>41400000.0</td>\n      <td>30.293154</td>\n      <td>7.329333</td>\n    </tr>\n  </tbody>\n</table>\n<p>982550 rows × 3 columns</p>\n</div>"
     },
     "execution_count": 4,
     "metadata": {},
     "output_type": "execute_result"
    }
   ],
   "source": [
    "# Select feature columns\n",
    "df_cols = ['Time_Ms', 'Weather_Temperature_Celsius', 'Active_Power']\n",
    "df = df[df_cols]\n",
    "\n",
    "df"
   ],
   "metadata": {
    "collapsed": false
   }
  },
  {
   "cell_type": "code",
   "execution_count": 5,
   "outputs": [
    {
     "data": {
      "text/plain": "Time_Ms                            0\nWeather_Temperature_Celsius    16629\nActive_Power                   16723\ndtype: int64"
     },
     "execution_count": 5,
     "metadata": {},
     "output_type": "execute_result"
    }
   ],
   "source": [
    "# Check missing data\n",
    "df.isna().sum(axis=0)"
   ],
   "metadata": {
    "collapsed": false
   }
  },
  {
   "cell_type": "code",
   "execution_count": 6,
   "outputs": [
    {
     "data": {
      "text/plain": "Time_Ms                        0\nWeather_Temperature_Celsius    0\nActive_Power                   0\ndtype: int64"
     },
     "execution_count": 6,
     "metadata": {},
     "output_type": "execute_result"
    }
   ],
   "source": [
    "# Drop missing data\n",
    "df = df.dropna()\n",
    "df.isna().sum(axis=0)"
   ],
   "metadata": {
    "collapsed": false
   }
  },
  {
   "cell_type": "code",
   "execution_count": 7,
   "outputs": [],
   "source": [
    "# Extract input features and target variable\n",
    "X = df[['Time_Ms', 'Weather_Temperature_Celsius']].values\n",
    "y = df['Active_Power'].values"
   ],
   "metadata": {
    "collapsed": false
   }
  },
  {
   "cell_type": "code",
   "execution_count": 8,
   "outputs": [
    {
     "data": {
      "text/plain": "array([[5.61000000e+07, 2.82264709e+01],\n       [5.64000000e+07, 2.73999157e+01],\n       [5.67000000e+07, 2.76612186e+01],\n       ...,\n       [4.08000000e+07, 3.02503929e+01],\n       [4.11000000e+07, 3.05817757e+01],\n       [4.14000000e+07, 3.02931538e+01]])"
     },
     "execution_count": 8,
     "metadata": {},
     "output_type": "execute_result"
    }
   ],
   "source": [
    "X"
   ],
   "metadata": {
    "collapsed": false
   }
  },
  {
   "cell_type": "code",
   "execution_count": 9,
   "outputs": [
    {
     "data": {
      "text/plain": "array([6.20833397, 6.10619974, 6.0104332 , ..., 7.18426657, 7.39346743,\n       7.3293333 ])"
     },
     "execution_count": 9,
     "metadata": {},
     "output_type": "execute_result"
    }
   ],
   "source": [
    "y"
   ],
   "metadata": {
    "collapsed": false
   }
  },
  {
   "cell_type": "code",
   "execution_count": 10,
   "outputs": [],
   "source": [
    "# Normalize the input features and target variable\n",
    "scaler_X = MinMaxScaler(feature_range=(0, 1))\n",
    "X_scaled = scaler_X.fit_transform(X)\n",
    "\n",
    "scaler_y = MinMaxScaler(feature_range=(0, 1))\n",
    "y_scaled = scaler_y.fit_transform(y.reshape(-1, 1))"
   ],
   "metadata": {
    "collapsed": false
   }
  },
  {
   "cell_type": "code",
   "execution_count": 11,
   "outputs": [
    {
     "data": {
      "text/plain": "array([[0.65156794, 0.66934962],\n       [0.65505226, 0.6612391 ],\n       [0.65853659, 0.66380312],\n       ...,\n       [0.4738676 , 0.68920922],\n       [0.47735192, 0.69246089],\n       [0.48083624, 0.68962881]])"
     },
     "execution_count": 11,
     "metadata": {},
     "output_type": "execute_result"
    }
   ],
   "source": [
    "X_scaled"
   ],
   "metadata": {
    "collapsed": false
   }
  },
  {
   "cell_type": "code",
   "execution_count": 12,
   "outputs": [
    {
     "data": {
      "text/plain": "array([[0.54954694],\n       [0.54056605],\n       [0.53214509],\n       ...,\n       [0.63536283],\n       [0.65375832],\n       [0.64811887]])"
     },
     "execution_count": 12,
     "metadata": {},
     "output_type": "execute_result"
    }
   ],
   "source": [
    "y_scaled"
   ],
   "metadata": {
    "collapsed": false
   }
  },
  {
   "cell_type": "code",
   "execution_count": 13,
   "outputs": [],
   "source": [
    "# Reshape the input features to fit the LSTM input shape\n",
    "timesteps = 1  # Number of time steps (1 in this case)\n",
    "input_dim = X_scaled.shape[1]  # Number of input features\n",
    "\n",
    "X_scaled = X_scaled.reshape((X_scaled.shape[0], timesteps, input_dim))"
   ],
   "metadata": {
    "collapsed": false
   }
  },
  {
   "cell_type": "code",
   "execution_count": 14,
   "outputs": [
    {
     "data": {
      "text/plain": "array([[[0.65156794, 0.66934962]],\n\n       [[0.65505226, 0.6612391 ]],\n\n       [[0.65853659, 0.66380312]],\n\n       ...,\n\n       [[0.4738676 , 0.68920922]],\n\n       [[0.47735192, 0.69246089]],\n\n       [[0.48083624, 0.68962881]]])"
     },
     "execution_count": 14,
     "metadata": {},
     "output_type": "execute_result"
    }
   ],
   "source": [
    "X_scaled"
   ],
   "metadata": {
    "collapsed": false
   }
  },
  {
   "cell_type": "code",
   "execution_count": 17,
   "outputs": [],
   "source": [
    "# Split the dataset into train and test sets\n",
    "X_train, X_test, y_train, y_test = train_test_split(X_scaled, y_scaled, test_size=0.2, random_state=42)"
   ],
   "metadata": {
    "collapsed": false
   }
  },
  {
   "cell_type": "code",
   "execution_count": 18,
   "outputs": [],
   "source": [
    "# Define the LSTM model with scaled output\n",
    "model = Sequential()\n",
    "model.add(LSTM(64, input_shape=(timesteps, input_dim)))\n",
    "model.add(Dense(1, activation='sigmoid'))  # Sigmoid activation for scaled output"
   ],
   "metadata": {
    "collapsed": false
   }
  },
  {
   "cell_type": "code",
   "execution_count": 19,
   "outputs": [],
   "source": [
    "# Compile the model\n",
    "model.compile(loss='mean_squared_error', optimizer='adam')"
   ],
   "metadata": {
    "collapsed": false
   }
  },
  {
   "cell_type": "code",
   "execution_count": 20,
   "outputs": [
    {
     "name": "stdout",
     "output_type": "stream",
     "text": [
      "Epoch 1/10\n",
      "24146/24146 [==============================] - 36s 1ms/step - loss: 0.0173\n",
      "Epoch 2/10\n",
      "24146/24146 [==============================] - 33s 1ms/step - loss: 0.0121\n",
      "Epoch 3/10\n",
      "24146/24146 [==============================] - 33s 1ms/step - loss: 0.0120\n",
      "Epoch 4/10\n",
      "24146/24146 [==============================] - 34s 1ms/step - loss: 0.0119\n",
      "Epoch 5/10\n",
      "24146/24146 [==============================] - 33s 1ms/step - loss: 0.0118\n",
      "Epoch 6/10\n",
      "24146/24146 [==============================] - 32s 1ms/step - loss: 0.0117\n",
      "Epoch 7/10\n",
      "24146/24146 [==============================] - 32s 1ms/step - loss: 0.0117\n",
      "Epoch 8/10\n",
      "24146/24146 [==============================] - 33s 1ms/step - loss: 0.0116\n",
      "Epoch 9/10\n",
      "24146/24146 [==============================] - 33s 1ms/step - loss: 0.0116\n",
      "Epoch 10/10\n",
      "24146/24146 [==============================] - 34s 1ms/step - loss: 0.0115\n"
     ]
    },
    {
     "data": {
      "text/plain": "<keras.callbacks.History at 0x1b31d0a0b50>"
     },
     "execution_count": 20,
     "metadata": {},
     "output_type": "execute_result"
    }
   ],
   "source": [
    "# Train the LSTM model\n",
    "model.fit(X_train, y_train, epochs=10, batch_size=32)"
   ],
   "metadata": {
    "collapsed": false
   }
  },
  {
   "cell_type": "code",
   "execution_count": 21,
   "outputs": [
    {
     "name": "stdout",
     "output_type": "stream",
     "text": [
      "6037/6037 [==============================] - 6s 900us/step - loss: 0.0116\n"
     ]
    },
    {
     "data": {
      "text/plain": "0.011569103226065636"
     },
     "execution_count": 21,
     "metadata": {},
     "output_type": "execute_result"
    }
   ],
   "source": [
    "# Evaluate the model on the test set\n",
    "mse = model.evaluate(X_test, y_test)\n",
    "mse"
   ],
   "metadata": {
    "collapsed": false
   }
  },
  {
   "cell_type": "code",
   "execution_count": 22,
   "outputs": [
    {
     "name": "stdout",
     "output_type": "stream",
     "text": [
      "6037/6037 [==============================] - 6s 855us/step\n"
     ]
    },
    {
     "data": {
      "text/plain": "array([[5.5294305e-01],\n       [2.8506044e-04],\n       [1.0019137e-02],\n       ...,\n       [4.5090857e-01],\n       [2.3029097e-03],\n       [5.5636640e-04]], dtype=float32)"
     },
     "execution_count": 22,
     "metadata": {},
     "output_type": "execute_result"
    }
   ],
   "source": [
    "# Make predictions on the test set\n",
    "predictions_scaled = model.predict(X_test)\n",
    "predictions_scaled"
   ],
   "metadata": {
    "collapsed": false
   }
  },
  {
   "cell_type": "code",
   "execution_count": 23,
   "outputs": [
    {
     "data": {
      "text/plain": "array([[ 6.2469563 ],\n       [-0.03809151],\n       [ 0.07260829],\n       ...,\n       [ 5.086579  ],\n       [-0.01514372],\n       [-0.03500611]], dtype=float32)"
     },
     "execution_count": 23,
     "metadata": {},
     "output_type": "execute_result"
    }
   ],
   "source": [
    "# Rescale the predictions back to the original range\n",
    "predictions_rescaled = scaler_y.inverse_transform(predictions_scaled)\n",
    "predictions_rescaled"
   ],
   "metadata": {
    "collapsed": false
   }
  },
  {
   "cell_type": "code",
   "execution_count": 24,
   "outputs": [
    {
     "name": "stdout",
     "output_type": "stream",
     "text": [
      "30182/30182 [==============================] - 25s 837us/step\n"
     ]
    },
    {
     "data": {
      "text/plain": "array([[0.39920035],\n       [0.38590485],\n       [0.3793362 ],\n       ...,\n       [0.548562  ],\n       [0.55190986],\n       [0.5524849 ]], dtype=float32)"
     },
     "execution_count": 24,
     "metadata": {},
     "output_type": "execute_result"
    }
   ],
   "source": [
    "predictions_scaled = model.predict(X_scaled)\n",
    "predictions_scaled"
   ],
   "metadata": {
    "collapsed": false
   }
  },
  {
   "cell_type": "code",
   "execution_count": 25,
   "outputs": [
    {
     "data": {
      "text/plain": "array([[4.4985323],\n       [4.3473306],\n       [4.2726293],\n       ...,\n       [6.197133 ],\n       [6.235206 ],\n       [6.2417464]], dtype=float32)"
     },
     "execution_count": 25,
     "metadata": {},
     "output_type": "execute_result"
    }
   ],
   "source": [
    "predictions_rescaled = scaler_y.inverse_transform(predictions_scaled)\n",
    "predictions_rescaled"
   ],
   "metadata": {
    "collapsed": false
   }
  },
  {
   "cell_type": "code",
   "execution_count": 27,
   "outputs": [],
   "source": [
    "save_model(model, '../lstm-model.h5')"
   ],
   "metadata": {
    "collapsed": false
   }
  }
 ],
 "metadata": {
  "kernelspec": {
   "display_name": "Python 3",
   "language": "python",
   "name": "python3"
  },
  "language_info": {
   "codemirror_mode": {
    "name": "ipython",
    "version": 2
   },
   "file_extension": ".py",
   "mimetype": "text/x-python",
   "name": "python",
   "nbconvert_exporter": "python",
   "pygments_lexer": "ipython2",
   "version": "2.7.6"
  }
 },
 "nbformat": 4,
 "nbformat_minor": 0
}
